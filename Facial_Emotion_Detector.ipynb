{
  "nbformat": 4,
  "nbformat_minor": 0,
  "metadata": {
    "colab": {
      "provenance": [],
      "gpuType": "T4"
    },
    "kernelspec": {
      "name": "python3",
      "display_name": "Python 3"
    },
    "language_info": {
      "name": "python"
    },
    "accelerator": "GPU"
  },
  "cells": [
    {
      "cell_type": "markdown",
      "source": [
        "Cloning the data from github repository"
      ],
      "metadata": {
        "id": "HPJNQ2R3w9yH"
      }
    },
    {
      "cell_type": "code",
      "execution_count": 2,
      "metadata": {
        "colab": {
          "base_uri": "https://localhost:8080/"
        },
        "id": "rk-k-ad892vZ",
        "outputId": "13c25d46-4e0b-4368-8cd6-e3cde6ed0d8c"
      },
      "outputs": [
        {
          "output_type": "stream",
          "name": "stdout",
          "text": [
            "Cloning into 'facial_expressions'...\n",
            "remote: Enumerating objects: 14214, done.\u001b[K\n",
            "remote: Total 14214 (delta 0), reused 0 (delta 0), pack-reused 14214\u001b[K\n",
            "Receiving objects: 100% (14214/14214), 239.65 MiB | 38.53 MiB/s, done.\n",
            "Resolving deltas: 100% (223/223), done.\n",
            "Updating files: 100% (13996/13996), done.\n"
          ]
        }
      ],
      "source": [
        "!git clone https://github.com/muxspace/facial_expressions.git"
      ]
    },
    {
      "cell_type": "markdown",
      "source": [
        "Storing the data in the form of dictionary where key represents 8 different emotions which are strings and value stores the image names in the form of lists"
      ],
      "metadata": {
        "id": "aTwo4SFcxXte"
      }
    },
    {
      "cell_type": "code",
      "source": [
        "import csv\n",
        "data={}\n",
        "with open('/content/facial_expressions/data/legend.csv') as f :\n",
        "  reader= csv.reader(f)\n",
        "  next(reader)\n",
        "  for row in reader:\n",
        "    key=row[2].lower()\n",
        "    if key in data:\n",
        "      data[key].append(row[1])\n",
        "    else:\n",
        "      data[key]=[row[1]]\n",
        "\n",
        ""
      ],
      "metadata": {
        "id": "0RzWjYW_Af-h"
      },
      "execution_count": 3,
      "outputs": []
    },
    {
      "cell_type": "code",
      "source": [
        "emotion_list=list(data.keys())\n",
        "emotion_list"
      ],
      "metadata": {
        "colab": {
          "base_uri": "https://localhost:8080/"
        },
        "id": "Dd6oCp-xE1rk",
        "outputId": "98f5e895-7d69-46f7-9483-9b00d24c747d"
      },
      "execution_count": 7,
      "outputs": [
        {
          "output_type": "execute_result",
          "data": {
            "text/plain": [
              "['anger',\n",
              " 'surprise',\n",
              " 'disgust',\n",
              " 'fear',\n",
              " 'neutral',\n",
              " 'happiness',\n",
              " 'sadness',\n",
              " 'contempt']"
            ]
          },
          "metadata": {},
          "execution_count": 7
        }
      ]
    },
    {
      "cell_type": "markdown",
      "source": [
        "Making directory and sub-directory"
      ],
      "metadata": {
        "id": "4KnTmB3VyA8b"
      }
    },
    {
      "cell_type": "code",
      "source": [
        "import os\n",
        "os.mkdir('master_data1')\n",
        "os.mkdir('master_data1/training')\n",
        "os.mkdir('master_data1/testing')"
      ],
      "metadata": {
        "id": "Sh7n4WcgHbZd"
      },
      "execution_count": 8,
      "outputs": []
    },
    {
      "cell_type": "code",
      "source": [
        "for emotion in emotion_list:\n",
        "  os.mkdir(os.path.join('master_data1/training/',emotion))\n",
        "  os.mkdir(os.path.join('master_data1/testing/',emotion))"
      ],
      "metadata": {
        "id": "NWwZhFsYL5MJ"
      },
      "execution_count": 9,
      "outputs": []
    },
    {
      "cell_type": "markdown",
      "source": [
        "Copying data in sub directories"
      ],
      "metadata": {
        "id": "roXx5uIKyeJp"
      }
    },
    {
      "cell_type": "code",
      "source": [
        "from shutil import copyfile\n",
        "split_size=0.8\n",
        "\n",
        "for emotion, images in data.items():\n",
        "  train_size=int(split_size*len(images))\n",
        "  train_images=images[:train_size]\n",
        "  test_images=images[train_size:]\n",
        "  for image in train_images:\n",
        "    source = os.path.join('/content/facial_expressions/images',image)\n",
        "    dest=os.path.join('/content/master_data1/training',emotion,image)\n",
        "    copyfile(source,dest)\n",
        "  for image in test_images:\n",
        "    source = os.path.join('/content/facial_expressions/images',image)\n",
        "    dest=os.path.join('/content/master_data1/testing',emotion,image)\n",
        "    copyfile(source,dest)\n"
      ],
      "metadata": {
        "id": "DSvQ7h-MMfRE"
      },
      "execution_count": 10,
      "outputs": []
    },
    {
      "cell_type": "markdown",
      "source": [
        "Started building CNN model"
      ],
      "metadata": {
        "id": "HgOvjAXnyop5"
      }
    },
    {
      "cell_type": "code",
      "source": [
        "import tensorflow as tf\n",
        "from tensorflow.keras.preprocessing.image import ImageDataGenerator\n",
        "from tensorflow.keras.optimizers import Adam\n",
        "from tensorflow.keras.callbacks import EarlyStopping\n",
        "from tensorflow.keras.layers import Conv2D,MaxPooling2D,Dense,Flatten\n"
      ],
      "metadata": {
        "id": "4SZMn_rsSjzD"
      },
      "execution_count": 11,
      "outputs": []
    },
    {
      "cell_type": "code",
      "source": [
        "from keras.api._v2.keras import activations\n",
        "model=tf.keras.models.Sequential([\n",
        "    Conv2D(16,(3,3),activation='relu',input_shape=(100,100,3)),\n",
        "    MaxPooling2D(2,2),\n",
        "    Conv2D(32,(3,3),activation='relu'),\n",
        "    MaxPooling2D(2,2),\n",
        "    Conv2D(64,(3,3),activation='relu'),\n",
        "    MaxPooling2D(2,2),\n",
        "    Flatten(),\n",
        "    Dense(1024,activation='relu'),\n",
        "    Dense(8,activation='Softmax')\n",
        "])\n",
        "model.compile(optimizer=Adam(lr=0.01),loss='categorical_crossentropy',metrics=['acc'])\n",
        "model.summary()\n"
      ],
      "metadata": {
        "colab": {
          "base_uri": "https://localhost:8080/"
        },
        "id": "OflZOddpjiiR",
        "outputId": "6be29ca2-6ca2-4622-e90e-fca7cf0d6836"
      },
      "execution_count": 19,
      "outputs": [
        {
          "output_type": "stream",
          "name": "stderr",
          "text": [
            "WARNING:absl:`lr` is deprecated in Keras optimizer, please use `learning_rate` or use the legacy optimizer, e.g.,tf.keras.optimizers.legacy.Adam.\n"
          ]
        },
        {
          "output_type": "stream",
          "name": "stdout",
          "text": [
            "Model: \"sequential_1\"\n",
            "_________________________________________________________________\n",
            " Layer (type)                Output Shape              Param #   \n",
            "=================================================================\n",
            " conv2d_3 (Conv2D)           (None, 98, 98, 16)        448       \n",
            "                                                                 \n",
            " max_pooling2d_3 (MaxPooling  (None, 49, 49, 16)       0         \n",
            " 2D)                                                             \n",
            "                                                                 \n",
            " conv2d_4 (Conv2D)           (None, 47, 47, 32)        4640      \n",
            "                                                                 \n",
            " max_pooling2d_4 (MaxPooling  (None, 23, 23, 32)       0         \n",
            " 2D)                                                             \n",
            "                                                                 \n",
            " conv2d_5 (Conv2D)           (None, 21, 21, 64)        18496     \n",
            "                                                                 \n",
            " max_pooling2d_5 (MaxPooling  (None, 10, 10, 64)       0         \n",
            " 2D)                                                             \n",
            "                                                                 \n",
            " flatten_1 (Flatten)         (None, 6400)              0         \n",
            "                                                                 \n",
            " dense_2 (Dense)             (None, 1024)              6554624   \n",
            "                                                                 \n",
            " dense_3 (Dense)             (None, 8)                 8200      \n",
            "                                                                 \n",
            "=================================================================\n",
            "Total params: 6,586,408\n",
            "Trainable params: 6,586,408\n",
            "Non-trainable params: 0\n",
            "_________________________________________________________________\n"
          ]
        }
      ]
    },
    {
      "cell_type": "code",
      "source": [
        "train_dir='/content/master_data1/training'\n",
        "test_dir='/content/master_data1/testing'\n",
        "train_datagen=ImageDataGenerator(rescale=1.0/255)\n",
        "train_generator=train_datagen.flow_from_directory(\n",
        "                                                  train_dir,\n",
        "                                                  target_size=(100,100),\n",
        "                                                  class_mode='categorical',\n",
        "                                                  batch_size=128\n",
        "                                                 )\n",
        "\n",
        "test_datagen=ImageDataGenerator(rescale=1.0/255)\n",
        "test_generator=train_datagen.flow_from_directory(\n",
        "                                                  test_dir,\n",
        "                                                  target_size=(100,100),\n",
        "                                                  class_mode='categorical',\n",
        "                                                  batch_size=128\n",
        "                                                 )"
      ],
      "metadata": {
        "colab": {
          "base_uri": "https://localhost:8080/"
        },
        "id": "qYJN1kJCpA1o",
        "outputId": "b9ec448e-7195-4db4-8244-55223a0f28f6"
      },
      "execution_count": 15,
      "outputs": [
        {
          "output_type": "stream",
          "name": "stdout",
          "text": [
            "Found 10941 images belonging to 8 classes.\n",
            "Found 2742 images belonging to 8 classes.\n"
          ]
        }
      ]
    },
    {
      "cell_type": "code",
      "source": [
        "es=EarlyStopping(monitor='val_acc',patience=2,min_delta=0.01)"
      ],
      "metadata": {
        "id": "CdBxUiS7rm4d"
      },
      "execution_count": 17,
      "outputs": []
    },
    {
      "cell_type": "markdown",
      "source": [
        "Training the model\n"
      ],
      "metadata": {
        "id": "sVnRsFIs0Om_"
      }
    },
    {
      "cell_type": "code",
      "source": [
        "model.fit_generator(train_generator,\n",
        "                    epochs=10,\n",
        "                    verbose=1,\n",
        "                    validation_data=test_generator,\n",
        "                    callbacks=[es])"
      ],
      "metadata": {
        "colab": {
          "base_uri": "https://localhost:8080/"
        },
        "id": "BKdXef8psCb_",
        "outputId": "f5918ff7-3d26-4986-f53e-d60b72f2481c"
      },
      "execution_count": 20,
      "outputs": [
        {
          "output_type": "stream",
          "name": "stderr",
          "text": [
            "<ipython-input-20-860791d9b115>:1: UserWarning: `Model.fit_generator` is deprecated and will be removed in a future version. Please use `Model.fit`, which supports generators.\n",
            "  model.fit_generator(train_generator,\n"
          ]
        },
        {
          "output_type": "stream",
          "name": "stdout",
          "text": [
            "Epoch 1/10\n",
            "86/86 [==============================] - 21s 223ms/step - loss: 0.9865 - acc: 0.5835 - val_loss: 1.3767 - val_acc: 0.6233\n",
            "Epoch 2/10\n",
            "86/86 [==============================] - 20s 231ms/step - loss: 0.6047 - acc: 0.7956 - val_loss: 1.9446 - val_acc: 0.6667\n",
            "Epoch 3/10\n",
            "86/86 [==============================] - 19s 220ms/step - loss: 0.5189 - acc: 0.8186 - val_loss: 2.0284 - val_acc: 0.6714\n",
            "Epoch 4/10\n",
            "86/86 [==============================] - 22s 253ms/step - loss: 0.4531 - acc: 0.8400 - val_loss: 2.2913 - val_acc: 0.6783\n",
            "Epoch 5/10\n",
            "86/86 [==============================] - 20s 229ms/step - loss: 0.4135 - acc: 0.8559 - val_loss: 2.0895 - val_acc: 0.6772\n",
            "Epoch 6/10\n",
            "86/86 [==============================] - 19s 224ms/step - loss: 0.3833 - acc: 0.8653 - val_loss: 2.4970 - val_acc: 0.6703\n"
          ]
        },
        {
          "output_type": "execute_result",
          "data": {
            "text/plain": [
              "<keras.callbacks.History at 0x7f297c47ab30>"
            ]
          },
          "metadata": {},
          "execution_count": 20
        }
      ]
    },
    {
      "cell_type": "code",
      "source": [],
      "metadata": {
        "id": "vLemxR02tiAz"
      },
      "execution_count": null,
      "outputs": []
    }
  ]
}